{
 "cells": [
  {
   "cell_type": "markdown",
   "metadata": {},
   "source": [
    "# Demonstration notebook for how to use the Twin Autoencoder.\n",
    " \n",
    "For use, we assume that you have:\n",
    "1. The Data\n",
    "2. The Embedding\n",
    "\n",
    "In this notebook we created the embeddings with SPUD and MASH. You can find their publically available code here:\n",
    "\n",
    "https://github.com/rustadadam/mashspud"
   ]
  },
  {
   "cell_type": "code",
   "execution_count": null,
   "metadata": {},
   "outputs": [],
   "source": [
    "from demonstration_utils.helpers import *\n",
    "import numpy as np\n",
    "PATH = \"demonstration_utils/\"\n",
    "\n",
    "#Load in Seeds data\n",
    "seeds = np.load(PATH + \"seeds/emb.npy\")\n",
    "anchors = np.load(PATH + \"seeds/anchors.npy\")\n",
    "labels = np.load(PATH + \"seeds/labels.npy\")\n",
    "\n",
    "plot_embeddings(seeds, np.hstack([labels, labels]), anchors)"
   ]
  },
  {
   "cell_type": "code",
   "execution_count": null,
   "metadata": {},
   "outputs": [],
   "source": [
    "# First, we need to train the autoencoder\n",
    "from AutoEncoders import GRAEAnchor\n",
    "\n",
    "# Load in the data\n",
    "train_emb = np.load(PATH + \"seeds/train_emb.npy\") # NOTE this embedding was not created with the test points like the one above\n",
    "trainA = np.load(PATH + \"seeds/trainA.npy\")\n",
    "trainB = np.load(PATH + \"seeds/trainB.npy\")\n",
    "testA = np.load(PATH + \"seeds/testA.npy\")\n",
    "testB = np.load(PATH + \"seeds/testB.npy\")\n",
    "\n",
    "train_labels = np.load(PATH + \"seeds/train_labels.npy\")\n",
    "test_labels = np.load(PATH + \"seeds/test_labels.npy\")\n",
    "\n",
    "# Train the autoencoders\n",
    "AutoEncA = GRAEAnchor(lam=100, anchor_lam=50, relax=False, n_components = 2)\n",
    "AutoEncA.fit(trainA, train_emb, anchors)\n",
    "\n",
    "AutoEncB = GRAEAnchor(lam=100, anchor_lam=50, relax=False, n_components = 2)\n",
    "AutoEncB.fit(trainB, train_emb, anchors)\n",
    "\n",
    "\n",
    "AutoEncA.plot_loss()\n",
    "AutoEncB.plot_loss()"
   ]
  },
  {
   "cell_type": "code",
   "execution_count": null,
   "metadata": {},
   "outputs": [],
   "source": []
  }
 ],
 "metadata": {
  "kernelspec": {
   "display_name": "twinae",
   "language": "python",
   "name": "python3"
  },
  "language_info": {
   "codemirror_mode": {
    "name": "ipython",
    "version": 3
   },
   "file_extension": ".py",
   "mimetype": "text/x-python",
   "name": "python",
   "nbconvert_exporter": "python",
   "pygments_lexer": "ipython3",
   "version": "3.13.2"
  }
 },
 "nbformat": 4,
 "nbformat_minor": 2
}
