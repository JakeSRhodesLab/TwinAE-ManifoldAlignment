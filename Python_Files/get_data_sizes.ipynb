{
 "cells": [
  {
   "cell_type": "code",
   "execution_count": 1,
   "metadata": {},
   "outputs": [
    {
     "name": "stdout",
     "output_type": "stream",
     "text": [
      "                    File  Rows  Columns\n",
      "29               zoo.csv   101       18\n",
      "14         hepatitis.csv   138       16\n",
      "17              iris.csv   150        5\n",
      "1          audiology.csv   190       68\n",
      "20        parkinsons.csv   195       23\n",
      "21             seeds.csv   199        8\n",
      "22      segmentation.csv   211       20\n",
      "11             glass.csv   214       10\n",
      "12     heart_disease.csv   297       14\n",
      "13     heart_failure.csv   299       11\n",
      "10            flare1.csv   323       11\n",
      "9            ecoli_5.csv   327        8\n",
      "16        ionosphere.csv   351       35\n",
      "4        Cancer_Data.csv   569       31\n",
      "15       hill_valley.csv   606      101\n",
      "2      balance_scale.csv   625        5\n",
      "7                crx.csv   664       15\n",
      "3      breast_cancer.csv   699       10\n",
      "24           titanic.csv   712        8\n",
      "8           diabetes.csv   768        9\n",
      "23       tic-tac-toe.csv   958       10\n",
      "18    Medicaldataset.csv  1319        9\n",
      "25          treeData.csv  1440       61\n",
      "28   winequality-red.csv  1599       12\n",
      "5                car.csv  1728        7\n",
      "6              chess.csv  3196       37\n",
      "26  water_potability.csv  3276       10\n",
      "19         optdigits.csv  3823       65\n",
      "0    artificial_tree.csv  5000       41\n",
      "27          waveform.csv  5000       41\n"
     ]
    }
   ],
   "source": [
    "import pandas as pd\n",
    "\n",
    "file_names = [\"artificial_tree\", \"audiology\", \"balance_scale\", \"breast_cancer\", \"Cancer_Data\", \"car\", \"chess\", \n",
    "                \"crx\", \"diabetes\", \"ecoli_5\", \"flare1\", \"glass\", \"heart_disease\", \"heart_failure\", \"hepatitis\",\n",
    "                \"hill_valley\", \"ionosphere\", \"iris\", \"Medicaldataset\", \"optdigits\", \"parkinsons\",\n",
    "                \"seeds\", \"segmentation\", \"tic-tac-toe\", \"titanic\", \"treeData\", \"water_potability\", \"waveform\",\n",
    "                \"winequality-red\", \"zoo\"]\n",
    "\n",
    "csv_files = [f\"{file_name}.csv\" for file_name in file_names]\n",
    "\n",
    "data = []\n",
    "\n",
    "for csv_file in csv_files:\n",
    "    try:\n",
    "        df = pd.read_csv('../CSV Files/' + csv_file)\n",
    "        data.append([csv_file, df.shape[0], df.shape[1]])\n",
    "    except FileNotFoundError:\n",
    "        print(f\"File {csv_file} not found.\")\n",
    "    except Exception as e:\n",
    "        print(f\"Error reading {csv_file}: {e}\")\n",
    "\n",
    "df_summary = pd.DataFrame(data, columns=['File', 'Rows', 'Columns'])\n",
    "\n",
    "print(df_summary.sort_values('Rows'))"
   ]
  },
  {
   "cell_type": "code",
   "execution_count": 5,
   "metadata": {},
   "outputs": [],
   "source": [
    "# df_summary.sort_values('Rows').to_csv('temp.csv')"
   ]
  }
 ],
 "metadata": {
  "kernelspec": {
   "display_name": "graph-alignment",
   "language": "python",
   "name": "python3"
  },
  "language_info": {
   "codemirror_mode": {
    "name": "ipython",
    "version": 3
   },
   "file_extension": ".py",
   "mimetype": "text/x-python",
   "name": "python",
   "nbconvert_exporter": "python",
   "pygments_lexer": "ipython3",
   "version": "3.12.0"
  }
 },
 "nbformat": 4,
 "nbformat_minor": 2
}
