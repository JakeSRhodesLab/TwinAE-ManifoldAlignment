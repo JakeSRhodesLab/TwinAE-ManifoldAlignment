{
 "cells": [
  {
   "cell_type": "code",
   "execution_count": 13,
   "metadata": {},
   "outputs": [],
   "source": [
    "# Import necessary libraries\n",
    "from sklearn.model_selection import cross_val_score\n",
    "from sklearn.datasets import load_iris\n",
    "from sklearn.neighbors import KNeighborsClassifier\n",
    "from sklearn.model_selection import train_test_split\n",
    "\n",
    "import pandas as pd\n",
    "import numpy as np\n"
   ]
  },
  {
   "cell_type": "markdown",
   "metadata": {},
   "source": [
    "# Scans Validation"
   ]
  },
  {
   "cell_type": "code",
   "execution_count": 14,
   "metadata": {},
   "outputs": [
    {
     "name": "stdout",
     "output_type": "stream",
     "text": [
      "Cross-validation scores: [0.79292929 0.82828283 0.81218274 0.8071066  0.83756345]\n",
      "Mean cross-validation score: 0.8156129826180587\n",
      "Standard deviation of cross-validation scores: 0.015754510354952334\n",
      "0.7948113207547169\n"
     ]
    }
   ],
   "source": [
    "\n",
    "\n",
    "# Load the dataset and split into usable data and labels\n",
    "scans = pd.read_csv(r\"..\\CSV Files\\ADNI_Embedded_Features.csv\")\n",
    "X = scans.drop(columns=[\"Labels\", \"Date\", \"Patient_ID\"])  # Feature matrix\n",
    "y = scans.Labels  # Target variable\n",
    "\n",
    "# Split the dataset into training and test sets (optional)\n",
    "X_train, X_test, y_train, y_test = train_test_split(X, y, test_size=0.3, random_state=42)\n",
    "\n",
    "# Create the k-NN model\n",
    "knn = KNeighborsClassifier(n_neighbors=5)  # You can adjust the number of neighbors\n",
    "\n",
    "# Perform cross-validation\n",
    "scores = cross_val_score(knn, X_train, y_train, cv=5)  # Using 5-fold cross-validation\n",
    "\n",
    "# Print the results\n",
    "print(f'Cross-validation scores: {scores}')\n",
    "print(f'Mean cross-validation score: {scores.mean()}')\n",
    "print(f'Standard deviation of cross-validation scores: {scores.std()}')\n",
    "#fit the chosen model with all of the training data\n",
    "knn.fit(X_train, y_train)\n",
    "\n",
    "#see how well it does on the truly unseen test data\n",
    "test_score = knn.score(X_test, y_test)\n",
    "print(test_score)\n",
    "\n",
    "#get the actual predictions made and make an array with the predictions, real labels, and whether it was right or not\n",
    "y_pred = knn.predict(X_test)\n",
    "accuracy = (y_pred == y_test).map({False:\"Incorrect\", True:\"Correct\"})\n",
    "pred_vs_real = np.array([y_pred, y_test, accuracy]).transpose()"
   ]
  },
  {
   "cell_type": "markdown",
   "metadata": {},
   "source": [
    "# Profiles Validation"
   ]
  },
  {
   "cell_type": "code",
   "execution_count": 11,
   "metadata": {},
   "outputs": [
    {
     "name": "stdout",
     "output_type": "stream",
     "text": [
      "Cross-validation scores: [0.35103245 0.39233038 0.37758112 0.28402367 0.39349112]\n",
      "Mean cross-validation score: 0.3596917491403536\n",
      "Standard deviation of cross-validation scores: 0.0408126199357318\n",
      "0.39669421487603307\n"
     ]
    }
   ],
   "source": [
    "profile = pd.read_excel(r\"..\\CSV Files\\Profile Variables 2024-07-31.xlsx\", index_col=\"RID\").fillna(-4)\n",
    "profile = profile.loc[profile['DX_bl'] != -4]\n",
    "\n",
    "# remap marriage status and baseline diagnosis\n",
    "profile['PTMARRY'] = profile['PTMARRY'].map({'Married': 1, 'Widowed': 2, 'Divorced': 3, 'Never married': 4, 'Unknown': -4, 'NaN': -4, -4: -4})\n",
    "profile['DX_bl'] = profile['DX_bl'].map({'CN': 0, 'SMC': 1, 'EMCI': 2, 'LMCI': 3, 'AD': 4, 'NaN': -4, -4: -4}).fillna(-4)\n",
    "\n",
    "X = np.array(profile.drop(columns=[\"DX_bl\", \"PTRACCAT\"])).astype(float)  # Feature matrix\n",
    "y = np.array(profile.DX_bl).astype(float)  # Target variable\n",
    "\n",
    "# Split the dataset into training and test sets (optional)\n",
    "X_train, X_test, y_train, y_test = train_test_split(X, y, test_size=0.3, random_state=42)\n",
    "\n",
    "# Create the k-NN model\n",
    "knn = KNeighborsClassifier(n_neighbors=5)  # You can adjust the number of neighbors\n",
    "\n",
    "# Perform cross-validation\n",
    "scores = cross_val_score(knn, X_train, y_train, cv=5)  # Using 5-fold cross-validation\n",
    "\n",
    "# Print the results\n",
    "print(f'Cross-validation scores: {scores}')\n",
    "print(f'Mean cross-validation score: {scores.mean()}')\n",
    "print(f'Standard deviation of cross-validation scores: {scores.std()}')\n",
    "\n",
    "\n",
    "#fit the chosen model with all of the training data\n",
    "knn.fit(X_train, y_train)\n",
    "\n",
    "#see how well it does on the truly unseen test data\n",
    "test_score = knn.score(X_test, y_test)\n",
    "print(test_score)\n",
    "\n",
    "#get the actual predictions made and make an array with the predictions, real labels, and whether it was right or not\n",
    "y_pred = knn.predict(X_test)\n",
    "accuracy = (y_pred == y_test)\n",
    "pred_vs_real = np.array([y_pred, y_test, accuracy]).transpose()"
   ]
  },
  {
   "cell_type": "code",
   "execution_count": 12,
   "metadata": {},
   "outputs": [
    {
     "name": "stdout",
     "output_type": "stream",
     "text": [
      "Cross-validation scores: [0.3539823  0.38348083 0.37168142 0.28402367 0.3964497 ]\n",
      "Mean cross-validation score: 0.3579235831107853\n",
      "Standard deviation of cross-validation scores: 0.039505553260453415\n",
      "0.39807162534435264\n"
     ]
    }
   ],
   "source": [
    "profile = pd.read_excel(r\"..\\CSV Files\\Profile Variables 2024-08-20.xlsx\", index_col=\"RID\").fillna(-4)\n",
    "\n",
    "# remap marriage status and baseline diagnosis\n",
    "#profile['PTMARRY'] = profile['PTMARRY'].map({'Married': 1, 'Widowed': 2, 'Divorced': 3, 'Never married': 4, 'Unknown': -4, 'NaN': -4, -4: -4})\n",
    "#profile['DX_bl'] = profile['DX_bl'].map({'CN': 0, 'SMC': 1, 'EMCI': 2, 'LMCI': 3, 'AD': 4, 'NaN': -4, -4: -4}).fillna(-4)\n",
    "\n",
    "X = np.array(profile.drop(columns=[\"DX_bl\"])).astype(float)  # Feature matrix\n",
    "y = np.array(profile.DX_bl).astype(float)  # Target variable\n",
    "\n",
    "# Split the dataset into training and test sets (optional)\n",
    "X_train, X_test, y_train, y_test = train_test_split(X, y, test_size=0.3, random_state=42)\n",
    "\n",
    "# Create the k-NN model\n",
    "knn = KNeighborsClassifier(n_neighbors=5)  # You can adjust the number of neighbors\n",
    "\n",
    "# Perform cross-validation\n",
    "scores = cross_val_score(knn, X_train, y_train, cv=5)  # Using 5-fold cross-validation\n",
    "\n",
    "# Print the results\n",
    "print(f'Cross-validation scores: {scores}')\n",
    "print(f'Mean cross-validation score: {scores.mean()}')\n",
    "print(f'Standard deviation of cross-validation scores: {scores.std()}')\n",
    "\n",
    "\n",
    "#fit the chosen model with all of the training data\n",
    "knn.fit(X_train, y_train)\n",
    "\n",
    "#see how well it does on the truly unseen test data\n",
    "test_score = knn.score(X_test, y_test)\n",
    "print(test_score)\n",
    "\n",
    "#get the actual predictions made and make an array with the predictions, real labels, and whether it was right or not\n",
    "y_pred = knn.predict(X_test)\n",
    "accuracy = (y_pred == y_test)\n",
    "pred_vs_real = np.array([y_pred, y_test, accuracy]).transpose()"
   ]
  },
  {
   "cell_type": "markdown",
   "metadata": {},
   "source": [
    "# Visits Validation"
   ]
  },
  {
   "cell_type": "code",
   "execution_count": 30,
   "metadata": {},
   "outputs": [],
   "source": [
    "visits = pd.read_excel(r\"..\\CSV Files\\Visit Variables 2024-08-01.xlsx\", index_col = [0]).fillna(-4) #index needs to be defined that way for reasons\n",
    "visits.dropna(how=\"all\", inplace=True)\n",
    "\n",
    "profile = pd.read_excel(r\"..\\CSV Files\\Profile Variables 2024-07-31.xlsx\", index_col=\"RID\").fillna(-4)\n",
    "profile['PTMARRY'] = profile['PTMARRY'].map({'Married': 1, 'Widowed': 2, 'Divorced': 3, 'Never married': 4, 'Unknown': -4, 'NaN': -4, -4: -4})\n",
    "profile['DX_bl'] = profile['DX_bl'].map({'CN': 0, 'SMC': 1, 'EMCI': 2, 'LMCI': 3, 'AD': 4, 'NaN': -4, -4: -4})\n",
    "label_column = profile[\"DX_bl\"]\n",
    "\n",
    "visits_anchors = list(visits.index.values)\n",
    "labels = label_column[visits_anchors]\n",
    "\n",
    "\n",
    "X = np.array(visits).astype(float)  # Feature matrix\n",
    "y = np.array(labels).astype(float)  # Target variable\n",
    "\n",
    "# Split the dataset into training and test sets (optional)\n",
    "X_train, X_test, y_train, y_test = train_test_split(X, y, test_size=0.3, random_state=42)\n",
    "\n",
    "# Create the k-NN model\n",
    "knn = KNeighborsClassifier(n_neighbors=5)  # You can adjust the number of neighbors\n",
    "\n",
    "# Perform cross-validation\n",
    "scores = cross_val_score(knn, X_train, y_train, cv=5)  # Using 5-fold cross-validation\n",
    "\n",
    "# Print the results\n",
    "print(f'Cross-validation scores: {scores}')\n",
    "print(f'Mean cross-validation score: {scores.mean()}')\n",
    "print(f'Standard deviation of cross-validation scores: {scores.std()}')\n",
    "\n",
    "\n",
    "#fit the chosen model with all of the training data\n",
    "knn.fit(X_train, y_train)\n",
    "\n",
    "#see how well it does on the truly unseen test data\n",
    "test_score = knn.score(X_test, y_test)\n",
    "print(test_score)\n",
    "\n",
    "#get the actual predictions made and make an array with the predictions, real labels, and whether it was right or not\n",
    "y_pred = knn.predict(X_test)\n",
    "accuracy = (y_pred == y_test)\n",
    "pred_vs_real = np.array([y_pred, y_test, accuracy]).transpose()"
   ]
  },
  {
   "cell_type": "code",
   "execution_count": 8,
   "metadata": {},
   "outputs": [],
   "source": [
    "visits = pd.read_excel(r\"..\\CSV Files\\Visit Variables 2024-08-01.xlsx\", index_col=[0])\n",
    "visit_rids = set(visits.index.values)\n",
    "\n",
    "profile = pd.read_excel(r\"..\\CSV Files\\Profile Variables 2024-07-31.xlsx\", index_col=\"RID\").fillna(-4)\n",
    "stunted_profiles = profile.loc[profile[\"DX_bl\"] == -4]\n",
    "stunted_rids = set(stunted_profiles.index.values)"
   ]
  },
  {
   "cell_type": "code",
   "execution_count": 9,
   "metadata": {},
   "outputs": [],
   "source": [
    "difference = stunted_rids & visit_rids"
   ]
  }
 ],
 "metadata": {
  "kernelspec": {
   "display_name": "base",
   "language": "python",
   "name": "python3"
  },
  "language_info": {
   "codemirror_mode": {
    "name": "ipython",
    "version": 3
   },
   "file_extension": ".py",
   "mimetype": "text/x-python",
   "name": "python",
   "nbconvert_exporter": "python",
   "pygments_lexer": "ipython3",
   "version": "3.11.5"
  }
 },
 "nbformat": 4,
 "nbformat_minor": 2
}
