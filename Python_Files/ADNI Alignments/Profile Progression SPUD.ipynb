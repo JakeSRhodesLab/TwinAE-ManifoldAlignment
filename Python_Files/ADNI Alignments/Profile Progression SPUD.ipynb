{
 "cells": [
  {
   "cell_type": "markdown",
   "metadata": {},
   "source": [
    "#Running SPUD with Profile and Progressions as Domains"
   ]
  },
  {
   "cell_type": "code",
   "execution_count": 1,
   "metadata": {},
   "outputs": [
    {
     "name": "stdout",
     "output_type": "stream",
     "text": [
      "WARNING:tensorflow:From c:\\Users\\jcory\\Box\\Graph-Manifold-Alignment\\Python_Files\\MAGAN.py:12: The name tf.disable_eager_execution is deprecated. Please use tf.compat.v1.disable_eager_execution instead.\n",
      "\n",
      "This is not running as __main__\n"
     ]
    }
   ],
   "source": [
    "#Import necessary libraries\n",
    "\n",
    "import sys\n",
    "import os\n",
    "\n",
    "# Make it so you can get modules from the parent directory\n",
    "current_dir = os.getcwd()\n",
    "parent_dir = os.path.abspath(os.path.join(current_dir, '..'))\n",
    "sys.path.insert(0, parent_dir)\n",
    "\n",
    "import test_manifold_algorithms as tma\n",
    "from MASH import MASH\n",
    "from SPUD import SPUD\n",
    "from temporal_progression_comparisons import *\n",
    "import matplotlib.pyplot as plt\n",
    "import numpy as np\n",
    "import pandas as pd"
   ]
  },
  {
   "cell_type": "code",
   "execution_count": 4,
   "metadata": {},
   "outputs": [],
   "source": [
    "LABEL_VARIABLE = \"DX_bl\"\n",
    "SAMPLE_SIZE = 20\n",
    "\n",
    "profile_raw = pd.read_excel(r\"..\\..\\CSV Files\\Profile Variables 2024-07-31.xlsx\", index_col=\"RID\")\n",
    "progressions_raw = pd.read_excel(r\"..\\..\\CSV Files\\Progression Variables 2024-08-02.xlsx\", index_col = [0,1]) #multilevel index\n",
    "\n",
    "#drop empty rows and fill in NaNs\n",
    "profile_raw.dropna(how=\"all\", inplace=True)\n",
    "profile_raw = profile_raw.fillna(-4)\n",
    "progressions_raw.dropna(how=\"all\", inplace=True)\n",
    "progressions_raw = progressions_raw.fillna(-4)\n",
    "\n",
    "#remap and delete a few variables, might make part of the merge later to be more steamlined on when to map and delete stuff\n",
    "profile_raw['DX_bl'] = profile_raw['DX_bl'].map({'CN': 0, 'SMC': 1, 'EMCI': 2, 'LMCI': 3, 'AD': 4, 'NaN': -4, -4: -4})\n",
    "profile_raw['PTMARRY'] = profile_raw['PTMARRY'].map({'Married': 1, 'Widowed': 2, 'Divorced': 3, 'Never married': 4, 'Unknown': -4, 'NaN': -4, -4: -4})\n",
    "\n",
    "profile = profile_raw.drop(columns = [LABEL_VARIABLE, \"PTRACCAT\"])\n",
    "progressions = progressions_raw.drop(columns = [])\n",
    "\n",
    "label_column = profile_raw[LABEL_VARIABLE]"
   ]
  },
  {
   "cell_type": "code",
   "execution_count": 18,
   "metadata": {},
   "outputs": [],
   "source": [
    "#take the first SAMPLE_SIZE of people for domain_a\n",
    "domain_a = np.array(profile)[:SAMPLE_SIZE].astype(float)\n",
    "\n",
    "#get the unique rids in the sample and their corresponding visits for domain_b\n",
    "sample_rids = list(profile.index.values)[:SAMPLE_SIZE]\n",
    "progressions_sample = progressions.loc[progressions.index.get_level_values(0).isin(sample_rids)] #must be done this way because some of the sample_rids don't have any progressions\n",
    "domain_b = progressions_sample #our custom comparison function takes a dataframe, so don't transform into array"
   ]
  }
 ],
 "metadata": {
  "kernelspec": {
   "display_name": "base",
   "language": "python",
   "name": "python3"
  },
  "language_info": {
   "codemirror_mode": {
    "name": "ipython",
    "version": 3
   },
   "file_extension": ".py",
   "mimetype": "text/x-python",
   "name": "python",
   "nbconvert_exporter": "python",
   "pygments_lexer": "ipython3",
   "version": "3.11.5"
  }
 },
 "nbformat": 4,
 "nbformat_minor": 2
}
