{
 "cells": [
  {
   "cell_type": "markdown",
   "metadata": {},
   "source": [
    "# Adni Tests Notebook\n",
    "That unfortunately got deleted big rip - > Adam's bad"
   ]
  },
  {
   "cell_type": "markdown",
   "metadata": {},
   "source": []
  },
  {
   "cell_type": "code",
   "execution_count": 1,
   "metadata": {},
   "outputs": [],
   "source": [
    "#Luckily this function remained though!\n",
    "from Helpers.Grae import get_GRAE_networks\n"
   ]
  },
  {
   "cell_type": "code",
   "execution_count": null,
   "metadata": {},
   "outputs": [],
   "source": [
    "# If I remember right this should be the pseudo code\n",
    "\n",
    "# With pickle, hydrate the MASH object\n",
    "\n",
    "# WIth pickle, hydrate the data object\n",
    "\n",
    "\n",
    "# Throw the mash.emb and data.domainA and data.domainB into the GRAE function\n",
    "\n",
    "# Use the test to predict the new points"
   ]
  }
 ],
 "metadata": {
  "kernelspec": {
   "display_name": ".venv",
   "language": "python",
   "name": "python3"
  },
  "language_info": {
   "codemirror_mode": {
    "name": "ipython",
    "version": 3
   },
   "file_extension": ".py",
   "mimetype": "text/x-python",
   "name": "python",
   "nbconvert_exporter": "python",
   "pygments_lexer": "ipython3",
   "version": "3.10.12"
  }
 },
 "nbformat": 4,
 "nbformat_minor": 2
}
