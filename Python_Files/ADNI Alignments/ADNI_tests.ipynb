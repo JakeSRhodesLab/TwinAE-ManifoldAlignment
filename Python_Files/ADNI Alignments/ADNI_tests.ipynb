{
 "cells": [
  {
   "cell_type": "markdown",
   "metadata": {},
   "source": [
    "# Adni Tests Notebook\n",
    "That unfortunately got deleted big rip - > Adam's bad"
   ]
  },
  {
   "cell_type": "markdown",
   "metadata": {},
   "source": []
  },
  {
   "cell_type": "code",
   "execution_count": 1,
   "metadata": {},
   "outputs": [],
   "source": [
    "#Luckily this function remained though!\n",
    "from Helpers.Grae import get_GRAE_networks\n"
   ]
  },
  {
   "cell_type": "code",
   "execution_count": 1,
   "metadata": {},
   "outputs": [],
   "source": [
    "import pickle\n",
    "\n",
    "# If I remember right this should be the pseudo code\n",
    "# Load the pickle files\n",
    "folder = \"/yunity/msn39/ADNI-Modeling-Dashboard/Datasets/Embeddings/MASH_Visit Variables 2025-01-03-07-12_DX_bl_use_rf_proximities_selection-ADNI1_2025-Jan-07-@-02-12_Progression Variables 2024-11-09_DX_bl_wrapped euclidean_selection-ADNI1_2025-Jan-21-@-03-22_2025-Jan-21-@-04-11\"\n",
    "\n",
    "with open(folder + \"/class_object.pkl\", 'rb') as f:\n",
    "    mash = pickle.load(f)\n",
    "\n",
    "with open(folder + \"/domain_object_1.pkl\", 'rb') as f:\n",
    "    ADNI_domain_1 = pickle.load(f)\n",
    "\n",
    "with open(folder + \"/domain_object_2.pkl\", 'rb') as f:\n",
    "    ADNI_domain_2 = pickle.load(f)\n",
    "\n",
    "mash.emb\n",
    "ADNI_domain_1.data\n",
    "ADNI_domain_1.labels\n",
    "ADNI_domain_2.data\n",
    "ADNI_domain_2.labels\n",
    "\n",
    "# Throw the mash.emb and data.domainA and data.domainB into the GRAE function\n",
    "\n",
    "# Use the test to predict the new points"
   ]
  }
 ],
 "metadata": {
  "kernelspec": {
   "display_name": "autoencoders",
   "language": "python",
   "name": "python3"
  },
  "language_info": {
   "codemirror_mode": {
    "name": "ipython",
    "version": 3
   },
   "file_extension": ".py",
   "mimetype": "text/x-python",
   "name": "python",
   "nbconvert_exporter": "python",
   "pygments_lexer": "ipython3",
   "version": "3.12.2"
  }
 },
 "nbformat": 4,
 "nbformat_minor": 2
}
