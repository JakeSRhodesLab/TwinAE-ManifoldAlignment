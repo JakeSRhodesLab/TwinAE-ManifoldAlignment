{
 "cells": [
  {
   "cell_type": "markdown",
   "metadata": {},
   "source": [
    "# Data Visualization Tests\n",
    "\n",
    "This file is to help plot the data, and discover trends"
   ]
  },
  {
   "cell_type": "markdown",
   "metadata": {},
   "source": [
    "## Prepare Data"
   ]
  },
  {
   "cell_type": "code",
   "execution_count": null,
   "metadata": {},
   "outputs": [],
   "source": [
    "#Import everything\n",
    "import test_manifold_algorithms as tma\n",
    "from test_manifold_algorithms import clear_directory"
   ]
  },
  {
   "cell_type": "code",
   "execution_count": null,
   "metadata": {},
   "outputs": [],
   "source": [
    "\"\"\"Clear Directory\"\"\"\n",
    "#Careful. This will reset all of the resutls that we have collected\n",
    "# clear_directory()"
   ]
  },
  {
   "cell_type": "code",
   "execution_count": null,
   "metadata": {},
   "outputs": [],
   "source": [
    "\"\"\"Practice Tests to Run\"\"\"\n",
    "test = tma.test_manifold_algorithms(\"balance_scale.csv\", split = \"random\", random_state=6739, verbose = 2)\n",
    "print(f\"Anchors : {test.anchors}\")\n",
    "print(f\"KNN range {test.knn_range}\")\n",
    "test.run_SPUD_tests(kind = [\"distance\"])\n",
    "test.run_DIG_tests(predict = True)\n",
    "test.run_NAMA_tests()\n",
    "test.run_DTA_tests()\n",
    "test.run_SSMA_tests()\n"
   ]
  },
  {
   "cell_type": "code",
   "execution_count": null,
   "metadata": {},
   "outputs": [],
   "source": [
    "\"\"\"Testing All functions\"\"\"\n",
    "class_instances = tma.run_all_tests(csv_files = [], test_random = 2, #General function arguments\n",
    "                                split = \"random\", verbose = 2, percent_of_anchors = [0.05, 0.1, 0.15, 0.2, 0.3], #Init Key arguments\n",
    "                                run_DIG = True, page_ranks = (\"None\", \"off-diagonal\", \"full\"), predict = True, #DIG key arguments\n",
    "                                run_DTA = True,\n",
    "                                run_NAMA = True,\n",
    "                                run_SSMA = True,\n",
    "                                run_SPUD = True, kind = [\"distance\"]) #SPUD key arguments"
   ]
  },
  {
   "cell_type": "code",
   "execution_count": null,
   "metadata": {},
   "outputs": [],
   "source": [
    "\"\"\"Visualization\"\"\"\n",
    "#Veiwing with MatplotLib\n",
    "tma.visualize_results(file_names = ['iris.csv'])"
   ]
  },
  {
   "cell_type": "code",
   "execution_count": null,
   "metadata": {},
   "outputs": [],
   "source": [
    "#Veiwing with DataFrame\n",
    "df = tma.upload_to_DataFrame()\n",
    "print(df)\n",
    "print(\"__________________________________________________________________________________________________\\n\\n\\n\\n\")\n",
    "print(df[df[\"FOSCTTM\"] < 0.15])"
   ]
  },
  {
   "cell_type": "code",
   "execution_count": null,
   "metadata": {},
   "outputs": [],
   "source": [
    "df.groupby(['csv_file', 'method'])['FOSCTTM'].mean()"
   ]
  }
 ],
 "metadata": {
  "kernelspec": {
   "display_name": "Python 3",
   "language": "python",
   "name": "python3"
  },
  "language_info": {
   "codemirror_mode": {
    "name": "ipython",
    "version": 3
   },
   "file_extension": ".py",
   "mimetype": "text/x-python",
   "name": "python",
   "nbconvert_exporter": "python",
   "pygments_lexer": "ipython3",
   "version": "3.12.0"
  }
 },
 "nbformat": 4,
 "nbformat_minor": 2
}
