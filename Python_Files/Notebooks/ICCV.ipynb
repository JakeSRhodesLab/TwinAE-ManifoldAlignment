{
 "cells": [
  {
   "cell_type": "markdown",
   "metadata": {},
   "source": [
    "# Differing GRAE Results"
   ]
  },
  {
   "cell_type": "code",
   "execution_count": 1,
   "metadata": {},
   "outputs": [
    {
     "name": "stderr",
     "output_type": "stream",
     "text": [
      "2025-02-21 09:47:42.391713: E external/local_xla/xla/stream_executor/cuda/cuda_fft.cc:485] Unable to register cuFFT factory: Attempting to register factory for plugin cuFFT when one has already been registered\n",
      "2025-02-21 09:47:42.412774: E external/local_xla/xla/stream_executor/cuda/cuda_dnn.cc:8454] Unable to register cuDNN factory: Attempting to register factory for plugin cuDNN when one has already been registered\n",
      "2025-02-21 09:47:42.419214: E external/local_xla/xla/stream_executor/cuda/cuda_blas.cc:1452] Unable to register cuBLAS factory: Attempting to register factory for plugin cuBLAS when one has already been registered\n",
      "2025-02-21 09:47:42.435899: I tensorflow/core/platform/cpu_feature_guard.cc:210] This TensorFlow binary is optimized to use available CPU instructions in performance-critical operations.\n",
      "To enable the following instructions: AVX2 FMA, in other operations, rebuild TensorFlow with the appropriate compiler flags.\n",
      "2025-02-21 09:47:44.391455: W tensorflow/compiler/tf2tensorrt/utils/py_utils.cc:38] TF-TRT Warning: Could not find TensorRT\n"
     ]
    }
   ],
   "source": [
    "from Helpers.grae_pipeline_helpers import read_all_graeBuild_results\n",
    "import pandas as pd"
   ]
  },
  {
   "cell_type": "code",
   "execution_count": 2,
   "metadata": {},
   "outputs": [],
   "source": [
    "grae_results = read_all_graeBuild_results()"
   ]
  },
  {
   "cell_type": "code",
   "execution_count": 3,
   "metadata": {},
   "outputs": [
    {
     "data": {
      "application/vnd.microsoft.datawrangler.viewer.v0+json": {
       "columns": [
        {
         "name": "index",
         "rawType": "int64",
         "type": "integer"
        },
        {
         "name": "method",
         "rawType": "object",
         "type": "string"
        },
        {
         "name": "dataset",
         "rawType": "object",
         "type": "string"
        },
        {
         "name": "split",
         "rawType": "object",
         "type": "string"
        },
        {
         "name": "lam",
         "rawType": "int64",
         "type": "integer"
        },
        {
         "name": "grae_build",
         "rawType": "object",
         "type": "string"
        },
        {
         "name": "MSE",
         "rawType": "float64",
         "type": "float"
        },
        {
         "name": "full_rf_oob",
         "rawType": "float64",
         "type": "float"
        },
        {
         "name": "full_knn_scoreA",
         "rawType": "float64",
         "type": "float"
        },
        {
         "name": "full_rf_scoreA",
         "rawType": "float64",
         "type": "float"
        },
        {
         "name": "full_knn_metricA",
         "rawType": "float64",
         "type": "float"
        },
        {
         "name": "full_rf_metricA",
         "rawType": "float64",
         "type": "float"
        },
        {
         "name": "full_knn_scoreB",
         "rawType": "float64",
         "type": "float"
        },
        {
         "name": "full_rf_scoreB",
         "rawType": "float64",
         "type": "float"
        },
        {
         "name": "full_knn_metricB",
         "rawType": "float64",
         "type": "float"
        },
        {
         "name": "full_rf_metricB",
         "rawType": "float64",
         "type": "float"
        },
        {
         "name": "pred_rf_oob",
         "rawType": "float64",
         "type": "float"
        },
        {
         "name": "pred_knn_scoreA",
         "rawType": "float64",
         "type": "float"
        },
        {
         "name": "pred_rf_scoreA",
         "rawType": "float64",
         "type": "float"
        },
        {
         "name": "pred_knn_metricA",
         "rawType": "float64",
         "type": "float"
        },
        {
         "name": "pred_rf_metricA",
         "rawType": "float64",
         "type": "float"
        },
        {
         "name": "pred_knn_scoreB",
         "rawType": "float64",
         "type": "float"
        },
        {
         "name": "pred_rf_scoreB",
         "rawType": "float64",
         "type": "float"
        },
        {
         "name": "pred_knn_metricB",
         "rawType": "float64",
         "type": "float"
        },
        {
         "name": "pred_rf_metricB",
         "rawType": "float64",
         "type": "float"
        }
       ],
       "conversionMethod": "pd.DataFrame",
       "ref": "697287b5-bcb7-47b2-97aa-b9fbe3f5e345",
       "rows": [
        [
         "0",
         "MASH",
         "ComputerHardware",
         "turn",
         "100",
         "anchor_loss",
         "0.031219253435154568",
         "0.8346480304029604",
         "0.7091740792144539",
         "0.7109768545328984",
         "0.4274793103134516",
         "0.42615231865290665",
         "0.7138067023994572",
         "0.3730799513644749",
         "0.42406094177375864",
         "0.6276313429350108",
         "0.7511374077488572",
         "0.662793879162346",
         "0.7569196270927507",
         "0.46030561086326977",
         "0.3908170399870022",
         "0.7162654194863082",
         "0.765737975682237",
         "0.42223543619080306",
         "0.38366262160759346"
        ],
        [
         "1",
         "SPUD",
         "ComputerHardware",
         "random",
         "100",
         "original",
         "0.08034914164966472",
         "0.6299941909753104",
         "0.33606137753024734",
         "-1.1094070951934385",
         "0.6458958745950808",
         "1.1512741287535913",
         "0.7478172969189756",
         "0.2958261643206954",
         "0.3980670147555192",
         "0.6651789332709753",
         "0.6884920934628327",
         "0.38767295655895295",
         "0.475104610241751",
         "0.6202835508768738",
         "0.5742948520369568",
         "0.6282272283956309",
         "0.19495425517961196",
         "0.4833228566822071",
         "0.7112279635153276"
        ],
        [
         "2",
         "MAPA",
         "ComputerHardware",
         "turn",
         "100",
         "anchor_loss",
         "0.15680964625408567",
         "-0.21602018077926832",
         "0.5101637509324505",
         "0.28085827324933954",
         "0.5547840984219085",
         "0.6722112684986586",
         "-0.23161223162020006",
         "-0.7216053889860754",
         "0.8797019220208842",
         "1.0400766605253915",
         "-0.2766237036790573",
         "-0.5369599415317643",
         "-1.7336158015887406",
         "0.9827200533974776",
         "1.3105913047361333",
         "0.4183973157809747",
         "0.32133348155954555",
         "0.6045214915883638",
         "0.6530204113960429"
        ],
        [
         "3",
         "MAPA",
         "ComputerHardware",
         "turn",
         "100",
         "original",
         "0.1575273916974528",
         "-0.21602018077926832",
         "0.5101637509324505",
         "0.28085827324933954",
         "0.5547840984219085",
         "0.6722112684986586",
         "-0.23161223162020006",
         "-0.7216053889860754",
         "0.8797019220208842",
         "1.0400766605253915",
         "-0.25839111226973",
         "-0.5236597875845641",
         "-1.7606648807292258",
         "0.9784588079266229",
         "1.3170594821803288",
         "0.21816315059780822",
         "0.19711601803766976",
         "0.7009008908552288",
         "0.7102724030724111"
        ],
        [
         "4",
         "SPUD",
         "ComputerHardware",
         "random",
         "100",
         "anchor_loss",
         "0.08279828190497365",
         "0.6299941909753104",
         "0.33606137753024734",
         "-1.1094070951934385",
         "0.6458958745950808",
         "1.1512741287535913",
         "0.7478172969189756",
         "0.2958261643206954",
         "0.3980670147555192",
         "0.6651789332709753",
         "0.6884920934628327",
         "0.38742665837491574",
         "0.4937422361250057",
         "0.6204082876120336",
         "0.5640068678977793",
         "0.5171677851118999",
         "0.16708675221240576",
         "0.5508034648600078",
         "0.7234331889562855"
        ]
       ],
       "shape": {
        "columns": 24,
        "rows": 5
       }
      },
      "text/html": [
       "<div>\n",
       "<style scoped>\n",
       "    .dataframe tbody tr th:only-of-type {\n",
       "        vertical-align: middle;\n",
       "    }\n",
       "\n",
       "    .dataframe tbody tr th {\n",
       "        vertical-align: top;\n",
       "    }\n",
       "\n",
       "    .dataframe thead th {\n",
       "        text-align: right;\n",
       "    }\n",
       "</style>\n",
       "<table border=\"1\" class=\"dataframe\">\n",
       "  <thead>\n",
       "    <tr style=\"text-align: right;\">\n",
       "      <th></th>\n",
       "      <th>method</th>\n",
       "      <th>dataset</th>\n",
       "      <th>split</th>\n",
       "      <th>lam</th>\n",
       "      <th>grae_build</th>\n",
       "      <th>MSE</th>\n",
       "      <th>full_rf_oob</th>\n",
       "      <th>full_knn_scoreA</th>\n",
       "      <th>full_rf_scoreA</th>\n",
       "      <th>full_knn_metricA</th>\n",
       "      <th>...</th>\n",
       "      <th>full_rf_metricB</th>\n",
       "      <th>pred_rf_oob</th>\n",
       "      <th>pred_knn_scoreA</th>\n",
       "      <th>pred_rf_scoreA</th>\n",
       "      <th>pred_knn_metricA</th>\n",
       "      <th>pred_rf_metricA</th>\n",
       "      <th>pred_knn_scoreB</th>\n",
       "      <th>pred_rf_scoreB</th>\n",
       "      <th>pred_knn_metricB</th>\n",
       "      <th>pred_rf_metricB</th>\n",
       "    </tr>\n",
       "  </thead>\n",
       "  <tbody>\n",
       "    <tr>\n",
       "      <th>0</th>\n",
       "      <td>MASH</td>\n",
       "      <td>ComputerHardware</td>\n",
       "      <td>turn</td>\n",
       "      <td>100</td>\n",
       "      <td>anchor_loss</td>\n",
       "      <td>0.031219</td>\n",
       "      <td>0.834648</td>\n",
       "      <td>0.709174</td>\n",
       "      <td>0.710977</td>\n",
       "      <td>0.427479</td>\n",
       "      <td>...</td>\n",
       "      <td>0.627631</td>\n",
       "      <td>0.751137</td>\n",
       "      <td>0.662794</td>\n",
       "      <td>0.756920</td>\n",
       "      <td>0.460306</td>\n",
       "      <td>0.390817</td>\n",
       "      <td>0.716265</td>\n",
       "      <td>0.765738</td>\n",
       "      <td>0.422235</td>\n",
       "      <td>0.383663</td>\n",
       "    </tr>\n",
       "    <tr>\n",
       "      <th>1</th>\n",
       "      <td>SPUD</td>\n",
       "      <td>ComputerHardware</td>\n",
       "      <td>random</td>\n",
       "      <td>100</td>\n",
       "      <td>original</td>\n",
       "      <td>0.080349</td>\n",
       "      <td>0.629994</td>\n",
       "      <td>0.336061</td>\n",
       "      <td>-1.109407</td>\n",
       "      <td>0.645896</td>\n",
       "      <td>...</td>\n",
       "      <td>0.665179</td>\n",
       "      <td>0.688492</td>\n",
       "      <td>0.387673</td>\n",
       "      <td>0.475105</td>\n",
       "      <td>0.620284</td>\n",
       "      <td>0.574295</td>\n",
       "      <td>0.628227</td>\n",
       "      <td>0.194954</td>\n",
       "      <td>0.483323</td>\n",
       "      <td>0.711228</td>\n",
       "    </tr>\n",
       "    <tr>\n",
       "      <th>2</th>\n",
       "      <td>MAPA</td>\n",
       "      <td>ComputerHardware</td>\n",
       "      <td>turn</td>\n",
       "      <td>100</td>\n",
       "      <td>anchor_loss</td>\n",
       "      <td>0.156810</td>\n",
       "      <td>-0.216020</td>\n",
       "      <td>0.510164</td>\n",
       "      <td>0.280858</td>\n",
       "      <td>0.554784</td>\n",
       "      <td>...</td>\n",
       "      <td>1.040077</td>\n",
       "      <td>-0.276624</td>\n",
       "      <td>-0.536960</td>\n",
       "      <td>-1.733616</td>\n",
       "      <td>0.982720</td>\n",
       "      <td>1.310591</td>\n",
       "      <td>0.418397</td>\n",
       "      <td>0.321333</td>\n",
       "      <td>0.604521</td>\n",
       "      <td>0.653020</td>\n",
       "    </tr>\n",
       "    <tr>\n",
       "      <th>3</th>\n",
       "      <td>MAPA</td>\n",
       "      <td>ComputerHardware</td>\n",
       "      <td>turn</td>\n",
       "      <td>100</td>\n",
       "      <td>original</td>\n",
       "      <td>0.157527</td>\n",
       "      <td>-0.216020</td>\n",
       "      <td>0.510164</td>\n",
       "      <td>0.280858</td>\n",
       "      <td>0.554784</td>\n",
       "      <td>...</td>\n",
       "      <td>1.040077</td>\n",
       "      <td>-0.258391</td>\n",
       "      <td>-0.523660</td>\n",
       "      <td>-1.760665</td>\n",
       "      <td>0.978459</td>\n",
       "      <td>1.317059</td>\n",
       "      <td>0.218163</td>\n",
       "      <td>0.197116</td>\n",
       "      <td>0.700901</td>\n",
       "      <td>0.710272</td>\n",
       "    </tr>\n",
       "    <tr>\n",
       "      <th>4</th>\n",
       "      <td>SPUD</td>\n",
       "      <td>ComputerHardware</td>\n",
       "      <td>random</td>\n",
       "      <td>100</td>\n",
       "      <td>anchor_loss</td>\n",
       "      <td>0.082798</td>\n",
       "      <td>0.629994</td>\n",
       "      <td>0.336061</td>\n",
       "      <td>-1.109407</td>\n",
       "      <td>0.645896</td>\n",
       "      <td>...</td>\n",
       "      <td>0.665179</td>\n",
       "      <td>0.688492</td>\n",
       "      <td>0.387427</td>\n",
       "      <td>0.493742</td>\n",
       "      <td>0.620408</td>\n",
       "      <td>0.564007</td>\n",
       "      <td>0.517168</td>\n",
       "      <td>0.167087</td>\n",
       "      <td>0.550803</td>\n",
       "      <td>0.723433</td>\n",
       "    </tr>\n",
       "  </tbody>\n",
       "</table>\n",
       "<p>5 rows × 24 columns</p>\n",
       "</div>"
      ],
      "text/plain": [
       "  method           dataset   split  lam   grae_build       MSE  full_rf_oob  \\\n",
       "0   MASH  ComputerHardware    turn  100  anchor_loss  0.031219     0.834648   \n",
       "1   SPUD  ComputerHardware  random  100     original  0.080349     0.629994   \n",
       "2   MAPA  ComputerHardware    turn  100  anchor_loss  0.156810    -0.216020   \n",
       "3   MAPA  ComputerHardware    turn  100     original  0.157527    -0.216020   \n",
       "4   SPUD  ComputerHardware  random  100  anchor_loss  0.082798     0.629994   \n",
       "\n",
       "   full_knn_scoreA  full_rf_scoreA  full_knn_metricA  ...  full_rf_metricB  \\\n",
       "0         0.709174        0.710977          0.427479  ...         0.627631   \n",
       "1         0.336061       -1.109407          0.645896  ...         0.665179   \n",
       "2         0.510164        0.280858          0.554784  ...         1.040077   \n",
       "3         0.510164        0.280858          0.554784  ...         1.040077   \n",
       "4         0.336061       -1.109407          0.645896  ...         0.665179   \n",
       "\n",
       "   pred_rf_oob  pred_knn_scoreA  pred_rf_scoreA  pred_knn_metricA  \\\n",
       "0     0.751137         0.662794        0.756920          0.460306   \n",
       "1     0.688492         0.387673        0.475105          0.620284   \n",
       "2    -0.276624        -0.536960       -1.733616          0.982720   \n",
       "3    -0.258391        -0.523660       -1.760665          0.978459   \n",
       "4     0.688492         0.387427        0.493742          0.620408   \n",
       "\n",
       "   pred_rf_metricA  pred_knn_scoreB  pred_rf_scoreB  pred_knn_metricB  \\\n",
       "0         0.390817         0.716265        0.765738          0.422235   \n",
       "1         0.574295         0.628227        0.194954          0.483323   \n",
       "2         1.310591         0.418397        0.321333          0.604521   \n",
       "3         1.317059         0.218163        0.197116          0.700901   \n",
       "4         0.564007         0.517168        0.167087          0.550803   \n",
       "\n",
       "   pred_rf_metricB  \n",
       "0         0.383663  \n",
       "1         0.711228  \n",
       "2         0.653020  \n",
       "3         0.710272  \n",
       "4         0.723433  \n",
       "\n",
       "[5 rows x 24 columns]"
      ]
     },
     "execution_count": 3,
     "metadata": {},
     "output_type": "execute_result"
    }
   ],
   "source": [
    "grae_results"
   ]
  },
  {
   "cell_type": "code",
   "execution_count": null,
   "metadata": {},
   "outputs": [],
   "source": []
  }
 ],
 "metadata": {
  "kernelspec": {
   "display_name": ".venv",
   "language": "python",
   "name": "python3"
  },
  "language_info": {
   "codemirror_mode": {
    "name": "ipython",
    "version": 3
   },
   "file_extension": ".py",
   "mimetype": "text/x-python",
   "name": "python",
   "nbconvert_exporter": "python",
   "pygments_lexer": "ipython3",
   "version": "3.10.12"
  }
 },
 "nbformat": 4,
 "nbformat_minor": 2
}
