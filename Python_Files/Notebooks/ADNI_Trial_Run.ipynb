{
 "cells": [
  {
   "cell_type": "code",
   "execution_count": 2,
   "metadata": {},
   "outputs": [],
   "source": [
    "import pickle\n",
    "import os\n",
    "import pandas as pd\n",
    "import numpy as np\n",
    "from sklearn.ensemble import RandomForestClassifier\n",
    "from sklearn.model_selection import train_test_split\n",
    "from sklearn.metrics import accuracy_score\n",
    "from sklearn.model_selection import cross_val_score\n",
    "from Helpers.Grae import get_GRAE_networks, BaseDataset\n"
   ]
  },
  {
   "cell_type": "code",
   "execution_count": 3,
   "metadata": {},
   "outputs": [],
   "source": [
    "\n",
    "\"\"\"\n",
    "This script pulls in one of Marshall's embeddings to validate how well it predicts the test points embedded by GRAE\n",
    "\"\"\"\n",
    "\n",
    "import sys\n",
    "sys.path.append('/yunity/msn39/ADNI-Modeling-Dashboard')  # Update this path accordingly\n",
    "import ADNI_Dataset_Class\n",
    "\n",
    "\n",
    "# Define the path to the pickle file\n",
    "file_path = os.path.join('Datasets', 'Embeddings', 'your_pickle_file.pkl')\n",
    "\n",
    "# Load the pickle files for a profile/tau set\n",
    "folder = \"/yunity/msn39/ADNI-Modeling-Dashboard/Datasets/Embeddings/MASH_Profile Variables 2025-01-03-06-35_LAST_DX_DX_bl_use_rf_proximities_selection-ADNI3_2025-Feb-25-@-05-54_Tau Variables 2025-02-20-21-22_LAST_DX_DX_bl_use_rf_proximities_selection-ADNI3_2025-Feb-25-@-05-42_2025-Feb-26-@-12-10\"\n",
    "with open(folder + '/class_object.pkl', 'rb') as file:\n",
    "    mash_object = pickle.load(file)\n",
    "with open(folder + '/domain_object_1.pkl', 'rb') as file:\n",
    "    domain_1_object = pickle.load(file)\n",
    "with open(folder + '/domain_object_2.pkl', 'rb') as file:\n",
    "    domain_2_object = pickle.load(file)"
   ]
  },
  {
   "cell_type": "code",
   "execution_count": 4,
   "metadata": {},
   "outputs": [],
   "source": [
    "good_looks = mash_object.emb"
   ]
  },
  {
   "cell_type": "code",
   "execution_count": 5,
   "metadata": {},
   "outputs": [
    {
     "data": {
      "text/plain": [
       "3       2.0\n",
       "5       2.0\n",
       "6       2.0\n",
       "7       1.0\n",
       "9       1.0\n",
       "       ... \n",
       "1553    2.0\n",
       "1557    2.0\n",
       "1558    1.0\n",
       "1560    2.0\n",
       "1561    2.0\n",
       "Name: LAST_DX, Length: 1071, dtype: float64"
      ]
     },
     "execution_count": 5,
     "metadata": {},
     "output_type": "execute_result"
    }
   ],
   "source": [
    "domain_1_object.labels"
   ]
  },
  {
   "cell_type": "code",
   "execution_count": 6,
   "metadata": {},
   "outputs": [
    {
     "data": {
      "text/plain": [
       "0.4897959183673469"
      ]
     },
     "execution_count": 6,
     "metadata": {},
     "output_type": "execute_result"
    }
   ],
   "source": [
    "domain_1_object.dataset_accuracy"
   ]
  },
  {
   "cell_type": "code",
   "execution_count": 7,
   "metadata": {},
   "outputs": [
    {
     "name": "stdout",
     "output_type": "stream",
     "text": [
      "[0.54149086 0.59295775 0.65211268]\n"
     ]
    },
    {
     "data": {
      "text/plain": [
       "'\\n# Predict on the test set\\ny_pred = model.predict(X_test)\\n\\n# Evaluate accuracy\\naccuracy = accuracy_score(y_test, y_pred)\\nprint(f\"Test Accuracy: {accuracy:.4f}\")\\n\\n# 🚀 Predict on new embedded points (future data)\\nX_new = ...  # Replace with new 2D embedded points\\ny_new_pred = clf.predict(X_new)\\nprint(\"Predicted labels for new points:\", y_new_pred)\\n'"
      ]
     },
     "execution_count": 7,
     "metadata": {},
     "output_type": "execute_result"
    }
   ],
   "source": [
    "X_train = mash_object.emb\n",
    "y_train = pd.concat([domain_1_object.labels, domain_2_object.labels])  # Resets index after appending\n",
    "\n",
    "# Train a Random Forest Classifier\n",
    "model = RandomForestClassifier(n_estimators=100, random_state=42)\n",
    "model.fit(X_train, y_train)\n",
    "\n",
    "scores = cross_val_score(model, X_train, y_train, cv=3)\n",
    "\n",
    "print(scores)\n",
    "\n",
    "domain_1_dataset_score = domain_1_object.dataset_accuracy\n",
    "domain_1_distances_score = domain_1_object.distances_accuracy\n",
    "domain_2_dataset_score = domain_2_object.dataset_accuracy\n",
    "domain_2_distances_score = domain_2_object.distances_accuracy\n",
    "manifold_oob = mash_object.get_scores(labels=y_train, n_jobs=-1)\n",
    "\n",
    "\n",
    "\"\"\"\n",
    "# Predict on the test set\n",
    "y_pred = model.predict(X_test)\n",
    "\n",
    "# Evaluate accuracy\n",
    "accuracy = accuracy_score(y_test, y_pred)\n",
    "print(f\"Test Accuracy: {accuracy:.4f}\")\n",
    "\n",
    "# 🚀 Predict on new embedded points (future data)\n",
    "X_new = ...  # Replace with new 2D embedded points\n",
    "y_new_pred = clf.predict(X_new)\n",
    "print(\"Predicted labels for new points:\", y_new_pred)\n",
    "\"\"\"\n"
   ]
  },
  {
   "cell_type": "code",
   "execution_count": 8,
   "metadata": {},
   "outputs": [
    {
     "data": {
      "text/plain": [
       "array([[7.69000000e+01, 1.72000000e+02, 1.39250411e-01, ...,\n",
       "        0.00000000e+00, 0.00000000e+00, 0.00000000e+00],\n",
       "       [7.09000000e+01, 2.31000000e+02, 1.08333478e+00, ...,\n",
       "        0.00000000e+00, 0.00000000e+00, 0.00000000e+00],\n",
       "       [7.29000000e+01,            nan,            nan, ...,\n",
       "        0.00000000e+00, 0.00000000e+00, 0.00000000e+00],\n",
       "       ...,\n",
       "       [           nan,            nan,            nan, ...,\n",
       "        0.00000000e+00, 0.00000000e+00, 1.00000000e+00],\n",
       "       [           nan,            nan,            nan, ...,\n",
       "        0.00000000e+00, 0.00000000e+00, 1.00000000e+00],\n",
       "       [7.48000000e+01,            nan,            nan, ...,\n",
       "        0.00000000e+00, 0.00000000e+00, 1.00000000e+00]])"
      ]
     },
     "execution_count": 8,
     "metadata": {},
     "output_type": "execute_result"
    }
   ],
   "source": [
    "domain_1_object.data"
   ]
  },
  {
   "cell_type": "code",
   "execution_count": 9,
   "metadata": {},
   "outputs": [],
   "source": [
    "graeA, graeB = get_GRAE_networks(domain_1_object.data, domain_2_object.data, mash_object.emb, n_comp = 2, \n",
    "                  anchors = mash_object.known_anchors, labelsA = domain_1_object.labels, labelsB = domain_2_object.labels)"
   ]
  },
  {
   "cell_type": "code",
   "execution_count": 18,
   "metadata": {},
   "outputs": [
    {
     "data": {
      "text/plain": [
       "(1071, 76)"
      ]
     },
     "execution_count": 18,
     "metadata": {},
     "output_type": "execute_result"
    }
   ],
   "source": [
    "domain_1_object.data.shape"
   ]
  },
  {
   "cell_type": "code",
   "execution_count": 15,
   "metadata": {},
   "outputs": [
    {
     "data": {
      "image/png": "[encoded data removed]",
      "text/plain": [
       "<Figure size 1000x700 with 1 Axes>"
      ]
     },
     "metadata": {},
     "output_type": "display_data"
    }
   ],
   "source": [
    "X_train_grae = BaseDataset(domain_1_object.data, np.array(domain_1_object.labels), split=\"none\", split_ratio=0.8, random_state=42)\n",
    "graeA.plot(X_train_grae)"
   ]
  }
 ],
 "metadata": {
  "kernelspec": {
   "display_name": "autoencoders",
   "language": "python",
   "name": "python3"
  },
  "language_info": {
   "codemirror_mode": {
    "name": "ipython",
    "version": 3
   },
   "file_extension": ".py",
   "mimetype": "text/x-python",
   "name": "python",
   "nbconvert_exporter": "python",
   "pygments_lexer": "ipython3",
   "version": "3.12.2"
  }
 },
 "nbformat": 4,
 "nbformat_minor": 2
}
